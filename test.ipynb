{
 "cells": [
  {
   "cell_type": "code",
   "execution_count": 1,
   "metadata": {},
   "outputs": [
    {
     "name": "stdout",
     "output_type": "stream",
     "text": [
      "Title: Generative AI, the race for supremacy in 2023 and beyond\n",
      "Description: large-scale <b>language</b> model (LLM), on March 14, 2023. OpenAI CEO Sam Altman recently announced... of <b>programming</b> languages, including <b>Python</b>, JavaScript, and C#. Copilot can also learn from user... \n",
      "Link: https://www.koreaittimes.com/news/articleView.html?idxno=127892\n",
      "\n",
      "Title: 경남도, 물류 빅데이터 처리·관리 인재양성체계 첫 구축\n",
      "Description: This basic <b>programming</b> education was conducted for 4 weeks, 3 times a week, focusing on practical training in <b>Python</b>, a <b>programming language</b> essential for smart port logistics that mainly utilizes big data classification... \n",
      "Link: http://www.breaknews.com/979458\n",
      "\n",
      "Title: 경남도, 스마트 항만물류 인재 키운다\n",
      "Description: Accordingly, it plans to intensively train <b>Python</b>, a <b>programming language</b> that is essential for the smart logistics field that mainly utilizes big data processing and analysis, and is also popularly used for artificial... \n",
      "Link: http://www.breaknews.com/974014\n",
      "\n",
      "Title: It’s the End of Computer <b>Programming</b> as We Know It. (And I Feel Fine.)\n",
      "Description: Over time, from the development of assembly <b>language</b> through more human-readable languages like C and <b>Python</b> and Java, <b>programming</b> has climbed what computer scientists call increasing levels of... \n",
      "Link: https://www.nytimes.com/2023/06/02/opinion/ai-coding.html?partner=naver\n",
      "\n",
      "Title: [박종화의 게놈 이야기 (13)] 게놈과 언어\n",
      "Description: 사람이 만든 가장 강력한 프로그래밍 언어는 영어다 (English is the most powerful <b>programming language</b> made by humans)... 그  다음이 C, Perl, Java, <b>Python</b>, Unix 와 같은 정형화된 언어(formal and context free <b>language</b>)들이다. 게놈은 흔히 염기... \n",
      "Link: https://www.iusm.co.kr/news/articleView.html?idxno=1015658\n",
      "\n",
      "Title: KOICA holds Digital Innovation Day\n",
      "Description: AI <b>language</b> models such as ChatGPT to strengthen the digital capacity of workers. Under the... through work automation using <b>Python programming</b> and the use of external software such as Flow.\n",
      "Link: https://www.koreatimes.co.kr/www/nation/2023/04/120_349268.html?utm_source=na\n",
      "\n",
      "Title: [알림] 여름방학 코딩+데이터 사이언스 프로젝트 캠프\n",
      "Description: It is for the students who already have a basic understanding of <b>Python programming language</b>. Students are expected to know core programming concepts like data structures, conditionals, loops, variables, functions, and file I/O in Python.... \n",
      "Link: https://news.koreadaily.com/2023/03/20/society/education/20230320111924122.html\n",
      "\n",
      "Title: [코딩 트렌드] 파이썬(<b>Python</b>), 10월 PyPL 인기 프로그래밍 언어 랭킹·티오베...\n",
      "Description: PyPL 순위 프로그래밍 언어 파이썬이 10월 PyPL(PYPL PopularitY of <b>Programming Language</b>) 순위와 티오베 지수(TIOBE Index) 기준 인기 프로그래밍 언어 순위 모두 1위를 기록했다. 파이썬은 플랫폼 독립적, 객체 지향적인 고급... \n",
      "Link: https://www.codingworldnews.com/news/articleView.html?idxno=12730\n",
      "\n",
      "Title: 개발자를 위한 코틀린 프로그래밍 A to Z\n",
      "Description: official <b>programming language</b> for building Android apps. Five years later, it is now occupying a large place... “I have been using languages ​​such as <b>Python</b> and Scala while working on projects that apply big data... \n",
      "Link: http://www.breaknews.com/924412\n",
      "\n",
      "Title: 용인특례시 창의인재 미래캠퍼스, 인공지능 코딩 교육\n",
      "Description: From October 7th to November 28th, 20 high school students will be trained to create machine learning learning models using the <b>Python programming language</b>. A city official said, “In 2020, we signed an agreement with... \n",
      "Link: http://www.breaknews.com/922518\n",
      "\n"
     ]
    }
   ],
   "source": [
    "import requests\n",
    "\n",
    "url = \"https://openapi.naver.com/v1/search/news.json\"\n",
    "headers = {\n",
    "    \"X-Naver-Client-Id\": \"8W34xTjBD_L83iS2Ak0i\",\n",
    "    \"X-Naver-Client-Secret\": \"Z7rSh1yv_R\"\n",
    "}\n",
    "params = {\n",
    "    \"query\": \"Python programming language\",\n",
    "    \"display\": 10,\n",
    "    \"start\": 1\n",
    "}\n",
    "\n",
    "response = requests.get(url, headers=headers, params=params)\n",
    "data = response.json()\n",
    "\n",
    "# 특정 단어가 제목에 포함된 뉴스만 출력\n",
    "keyword = \"Python\"\n",
    "\n",
    "for item in data['items']:\n",
    "    title = item['title']\n",
    "    description = item['description']\n",
    "\n",
    "    if keyword.lower() in title.lower() or keyword.lower() in description.lower():\n",
    "        print(\"Title:\", title)\n",
    "        print(\"Description:\", description)\n",
    "        print(\"Link:\", item['link'])\n",
    "        print()"
   ]
  }
 ],
 "metadata": {
  "kernelspec": {
   "display_name": "Python 3",
   "language": "python",
   "name": "python3"
  },
  "language_info": {
   "codemirror_mode": {
    "name": "ipython",
    "version": 3
   },
   "file_extension": ".py",
   "mimetype": "text/x-python",
   "name": "python",
   "nbconvert_exporter": "python",
   "pygments_lexer": "ipython3",
   "version": "3.10.6"
  }
 },
 "nbformat": 4,
 "nbformat_minor": 2
}
